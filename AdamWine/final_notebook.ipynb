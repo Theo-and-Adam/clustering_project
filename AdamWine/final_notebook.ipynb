{
 "cells": [
  {
   "cell_type": "markdown",
   "id": "378df595",
   "metadata": {},
   "source": [
    "# Theo and Adam Wine Quality Cluster Project"
   ]
  },
  {
   "cell_type": "markdown",
   "id": "4adca33c",
   "metadata": {},
   "source": [
    "## Imports"
   ]
  },
  {
   "cell_type": "code",
   "execution_count": 16,
   "id": "ec28965d",
   "metadata": {},
   "outputs": [],
   "source": [
    "import warnings\n",
    "warnings.filterwarnings(\"ignore\")\n",
    "\n",
    "\n",
    "import pandas as pd\n",
    "import numpy as np\n",
    "import matplotlib.pyplot as plt\n",
    "import seaborn as sns\n",
    "\n",
    "import wrangle\n",
    "\n",
    "from sklearn.model_selection import train_test_split\n",
    "from sklearn.preprocessing import StandardScaler\n",
    "from sklearn.cluster import KMeans\n",
    "from sklearn.ensemble import RandomForestClassifier\n",
    "from sklearn.metrics import accuracy_score"
   ]
  },
  {
   "cell_type": "markdown",
   "id": "4a99ac5f",
   "metadata": {},
   "source": [
    "## Acquire"
   ]
  },
  {
   "cell_type": "code",
   "execution_count": 17,
   "id": "05dd190e",
   "metadata": {},
   "outputs": [
    {
     "ename": "AttributeError",
     "evalue": "module 'wrangle' has no attribute 'read_wine_data'",
     "output_type": "error",
     "traceback": [
      "\u001b[0;31m---------------------------------------------------------------------------\u001b[0m",
      "\u001b[0;31mAttributeError\u001b[0m                            Traceback (most recent call last)",
      "Cell \u001b[0;32mIn[17], line 1\u001b[0m\n\u001b[0;32m----> 1\u001b[0m \u001b[43mwrangle\u001b[49m\u001b[38;5;241;43m.\u001b[39;49m\u001b[43mread_wine_data\u001b[49m()\n",
      "\u001b[0;31mAttributeError\u001b[0m: module 'wrangle' has no attribute 'read_wine_data'"
     ]
    }
   ],
   "source": [
    "wrangle.read_wine_data()"
   ]
  },
  {
   "cell_type": "markdown",
   "id": "465dd3af",
   "metadata": {},
   "source": [
    "## Prepare\n",
    "I will show pairplot"
   ]
  },
  {
   "cell_type": "code",
   "execution_count": null,
   "id": "cf7038e3",
   "metadata": {},
   "outputs": [],
   "source": []
  },
  {
   "cell_type": "markdown",
   "id": "251a54e5",
   "metadata": {},
   "source": [
    "#### Null"
   ]
  },
  {
   "cell_type": "code",
   "execution_count": null,
   "id": "dce34c6e",
   "metadata": {},
   "outputs": [],
   "source": []
  },
  {
   "cell_type": "markdown",
   "id": "fe47624f",
   "metadata": {},
   "source": [
    "#### Split"
   ]
  },
  {
   "cell_type": "code",
   "execution_count": null,
   "id": "2dcb628e",
   "metadata": {},
   "outputs": [],
   "source": []
  },
  {
   "cell_type": "markdown",
   "id": "a40293f7",
   "metadata": {},
   "source": [
    "## Exploration \n",
    "We will go into hypothesis and visual"
   ]
  },
  {
   "cell_type": "code",
   "execution_count": null,
   "id": "5048f8c5",
   "metadata": {},
   "outputs": [],
   "source": []
  },
  {
   "cell_type": "code",
   "execution_count": null,
   "id": "3a8e219d",
   "metadata": {},
   "outputs": [],
   "source": []
  },
  {
   "cell_type": "markdown",
   "id": "0c118755",
   "metadata": {},
   "source": [
    "#### Key Visuals"
   ]
  },
  {
   "cell_type": "code",
   "execution_count": null,
   "id": "bfa2f21a",
   "metadata": {},
   "outputs": [],
   "source": []
  },
  {
   "cell_type": "markdown",
   "id": "aa9372f2",
   "metadata": {},
   "source": [
    "##### Hypothesis 1"
   ]
  },
  {
   "cell_type": "code",
   "execution_count": null,
   "id": "4a869f49",
   "metadata": {},
   "outputs": [],
   "source": []
  },
  {
   "cell_type": "markdown",
   "id": "18450b4e",
   "metadata": {},
   "source": [
    "##### Hypothesis 2"
   ]
  },
  {
   "cell_type": "code",
   "execution_count": null,
   "id": "cf426a4c",
   "metadata": {},
   "outputs": [],
   "source": []
  },
  {
   "cell_type": "markdown",
   "id": "9498bffa",
   "metadata": {},
   "source": [
    "##### Hypothesis 3"
   ]
  },
  {
   "cell_type": "code",
   "execution_count": null,
   "id": "d9d6aefb",
   "metadata": {},
   "outputs": [],
   "source": []
  },
  {
   "cell_type": "markdown",
   "id": "6ead5504",
   "metadata": {},
   "source": [
    "##### Hypothesis 4"
   ]
  },
  {
   "cell_type": "code",
   "execution_count": null,
   "id": "54263615",
   "metadata": {},
   "outputs": [],
   "source": []
  },
  {
   "cell_type": "markdown",
   "id": "c906c7e6",
   "metadata": {},
   "source": [
    "## Clusters"
   ]
  },
  {
   "cell_type": "code",
   "execution_count": null,
   "id": "24687ef7",
   "metadata": {},
   "outputs": [],
   "source": []
  },
  {
   "cell_type": "markdown",
   "id": "90172497",
   "metadata": {},
   "source": [
    "## Summary"
   ]
  },
  {
   "cell_type": "code",
   "execution_count": null,
   "id": "667ef4d6",
   "metadata": {},
   "outputs": [],
   "source": []
  },
  {
   "cell_type": "markdown",
   "id": "dc05d557",
   "metadata": {},
   "source": [
    "#### Baseline"
   ]
  },
  {
   "cell_type": "code",
   "execution_count": null,
   "id": "50c17cdf",
   "metadata": {},
   "outputs": [],
   "source": []
  },
  {
   "cell_type": "markdown",
   "id": "cbbb0662",
   "metadata": {},
   "source": [
    "#### Models Table"
   ]
  },
  {
   "cell_type": "code",
   "execution_count": null,
   "id": "f23d1081",
   "metadata": {},
   "outputs": [],
   "source": []
  },
  {
   "cell_type": "markdown",
   "id": "fe25f400",
   "metadata": {},
   "source": [
    "#### Best Model"
   ]
  },
  {
   "cell_type": "code",
   "execution_count": null,
   "id": "ede9e1a9",
   "metadata": {},
   "outputs": [],
   "source": []
  },
  {
   "cell_type": "markdown",
   "id": "5911c3a8",
   "metadata": {},
   "source": [
    "## Conclusion"
   ]
  },
  {
   "cell_type": "code",
   "execution_count": null,
   "id": "4cc0be71",
   "metadata": {},
   "outputs": [],
   "source": []
  }
 ],
 "metadata": {
  "kernelspec": {
   "display_name": "Python 3 (ipykernel)",
   "language": "python",
   "name": "python3"
  },
  "language_info": {
   "codemirror_mode": {
    "name": "ipython",
    "version": 3
   },
   "file_extension": ".py",
   "mimetype": "text/x-python",
   "name": "python",
   "nbconvert_exporter": "python",
   "pygments_lexer": "ipython3",
   "version": "3.10.9"
  }
 },
 "nbformat": 4,
 "nbformat_minor": 5
}
